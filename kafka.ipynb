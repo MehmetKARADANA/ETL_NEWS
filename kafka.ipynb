{
  "cells": [
    {
      "cell_type": "code",
      "execution_count": 8,
      "metadata": {
        "colab": {
          "base_uri": "https://localhost:8080/"
        },
        "id": "X1QCNE-fbPdU",
        "outputId": "dd7e3c20-37af-4c19-e405-d781b77c0464"
      },
      "outputs": [
        {
          "name": "stdout",
          "output_type": "stream",
          "text": [
            "Collecting confluent_kafka\n",
            "  Downloading confluent_kafka-2.4.0-cp310-cp310-manylinux_2_17_x86_64.manylinux2014_x86_64.whl (4.0 MB)\n",
            "\u001b[2K     \u001b[90m━━━━━━━━━━━━━━━━━━━━━━━━━━━━━━━━━━━━━━━━\u001b[0m \u001b[32m4.0/4.0 MB\u001b[0m \u001b[31m11.0 MB/s\u001b[0m eta \u001b[36m0:00:00\u001b[0m\n",
            "\u001b[?25hInstalling collected packages: confluent_kafka\n",
            "Successfully installed confluent_kafka-2.4.0\n"
          ]
        }
      ],
      "source": [
        "!pip install confluent_kafka"
      ]
    },
    {
      "cell_type": "code",
      "execution_count": 27,
      "metadata": {
        "colab": {
          "base_uri": "https://localhost:8080/"
        },
        "id": "CWFdygtMbCkH",
        "outputId": "72f747fa-9f33-4ea9-c4c4-361560d053f2"
      },
      "outputs": [
        {
          "name": "stdout",
          "output_type": "stream",
          "text": [
            "Enter URL: https://www.cnnturk.com/video/turkiye/ankara-tahran-hattinda-dakika-dakika-neler-yasandi-2116090\n",
            "Message delivered to Mehmet [4]\n",
            "Success: Data sent to Kafka\n"
          ]
        }
      ],
      "source": [
        "from confluent_kafka import Producer\n",
        "import requests\n",
        "\n",
        "def delivery_report(err, msg):\n",
        "    if err is not None:\n",
        "        print('Message delivery failed: {}'.format(err))\n",
        "    else:\n",
        "        print('Message delivered to {} [{}]'.format(msg.topic(), msg.partition()))\n",
        "\n",
        "def fetch_data_and_send_to_kafka(url):\n",
        "    # Confluent Kafka Producer ayarları\n",
        "    producer_conf = {\n",
        "        'bootstrap.servers': 'kendi_ayarlarınız',\n",
        "        'security.protocol': 'kendi_ayarlarınız',\n",
        "        'sasl.mechanism': 'kendi_ayarlarınız',\n",
        "        'sasl.username': 'kendi_ayarlarınız',\n",
        "        'sasl.password': 'kendi_ayarlarınız'\n",
        "    }\n",
        "\n",
        "    # Producer oluşturma\n",
        "    producer = Producer(producer_conf)\n",
        "    topic = 'Mehmet'\n",
        "\n",
        "    # URL'den veri çekme\n",
        "    response = requests.get(url)\n",
        "    if response.status_code == 200:\n",
        "        data = response.text\n",
        "        # URL'yi key olarak kullanarak veriyi Kafka'ya gönderme\n",
        "        producer.produce(topic, key=url.encode('utf-8'), value=data.encode('utf-8'), callback=delivery_report)\n",
        "        producer.flush()\n",
        "        print(\"Success: Data sent to Kafka\")\n",
        "    else:\n",
        "        print(f\"Error: Failed to fetch data from URL. Status code: {response.status_code}\")\n",
        "\n",
        "if __name__ == \"__main__\":\n",
        "    url = input(\"Enter URL: \")\n",
        "    fetch_data_and_send_to_kafka(url)\n",
        "\n"
      ]
    },
    {
      "cell_type": "code",
      "execution_count": 17,
      "metadata": {
        "colab": {
          "base_uri": "https://localhost:8080/"
        },
        "id": "KJweyRChdcUd",
        "outputId": "36a1b2d8-3fca-41ca-850d-79a71a290d33"
      },
      "outputs": [
        {
          "name": "stdout",
          "output_type": "stream",
          "text": [
            "Requirement already satisfied: confluent_kafka in /usr/local/lib/python3.10/dist-packages (2.4.0)\n",
            "Requirement already satisfied: pymongo in /usr/local/lib/python3.10/dist-packages (4.7.2)\n",
            "Requirement already satisfied: dnspython<3.0.0,>=1.16.0 in /usr/local/lib/python3.10/dist-packages (from pymongo) (2.6.1)\n"
          ]
        }
      ],
      "source": [
        "!pip install confluent_kafka pymongo\n",
        "\n"
      ]
    },
    {
      "cell_type": "code",
      "execution_count": null,
      "metadata": {
        "colab": {
          "base_uri": "https://localhost:8080/"
        },
        "id": "r8EXjQrvbEjQ",
        "outputId": "1e37af9e-6cbc-401a-d07f-c755d816775f"
      },
      "outputs": [
        {
          "name": "stdout",
          "output_type": "stream",
          "text": [
            "Data inserted with ID: 664b6da60efd2113fa26787d\n",
            "Data inserted with ID: 664b6da70efd2113fa26787e\n"
          ]
        }
      ],
      "source": [
        "from confluent_kafka import Consumer, KafkaException, KafkaError\n",
        "from pymongo import MongoClient\n",
        "\n",
        "def insert_data_to_mongo(url, data, collection):\n",
        "    result = collection.insert_one({\"url\": url, \"data\": data, \"state\": 0})\n",
        "    if result.inserted_id:\n",
        "        print(f\"Data inserted with ID: {result.inserted_id}\")\n",
        "    else:\n",
        "        print(\"Failed to insert data\")\n",
        "\n",
        "def kafka_consumer_example():\n",
        "    # Confluent Kafka Consumer ayarları\n",
        "    consumer_conf = {\n",
        "        'bootstrap.servers': 'kendi_ayarlarınız',\n",
        "        'security.protocol': 'kendi_ayarlarınız',\n",
        "        'sasl.mechanism': 'kendi_ayarlarınız',\n",
        "        'sasl.username': 'kendi_ayarlarınız',\n",
        "        'sasl.password': 'kendi_ayarlarınız',\n",
        "        'group.id': 'kendi_ayarlarınız',\n",
        "        'auto.offset.reset': 'earliest'\n",
        "    }\n",
        "\n",
        "    # Consumer oluşturma\n",
        "    consumer = Consumer(consumer_conf)\n",
        "    topic = 'Mehmet'\n",
        "    consumer.subscribe([topic])\n",
        "\n",
        "    # MongoDB bağlantısını oluşturma\n",
        "    client = MongoClient(\"mongodb+srv://mehmet34:<pasword>@atlascluster.j3z8vqq.mongodb.net/\")\n",
        "    db = client['mydatabase']\n",
        "    collection = db['mycollection1']\n",
        "\n",
        "    try:\n",
        "        while True:\n",
        "            msg = consumer.poll(timeout=1.0)\n",
        "            if msg is None:\n",
        "                continue\n",
        "            if msg.error():\n",
        "                if msg.error().code() == KafkaError._PARTITION_EOF:\n",
        "                    print(f\"End of partition reached {msg.topic()}/{msg.partition()}\")\n",
        "                else:\n",
        "                    raise KafkaException(msg.error())\n",
        "            else:\n",
        "                url = msg.key().decode('utf-8') if msg.key() is not None else None\n",
        "                data = msg.value().decode('utf-8')\n",
        "                insert_data_to_mongo(url, data, collection)\n",
        "    except KeyboardInterrupt:\n",
        "        pass\n",
        "    finally:\n",
        "        # Clean up\n",
        "        consumer.close()\n",
        "\n",
        "if __name__ == \"__main__\":\n",
        "    kafka_consumer_example()\n"
      ]
    },
    {
      "cell_type": "code",
      "execution_count": 20,
      "metadata": {
        "colab": {
          "base_uri": "https://localhost:8080/"
        },
        "id": "QJbe272WfnZ9",
        "outputId": "742353cc-ba17-4512-8d43-2a32de26f35b"
      },
      "outputs": [
        {
          "name": "stdout",
          "output_type": "stream",
          "text": [
            "172.28.0.12 \n",
            "34.74.9.143/bin/bash: line 1:  grep LISTEN: command not found\n",
            "lsof: illegal option character: �\n",
            "lsof: illegal option character: �\n",
            "lsof 4.93.2\n",
            " latest revision: https://github.com/lsof-org/lsof\n",
            " latest FAQ: https://github.com/lsof-org/lsof/blob/master/00FAQ\n",
            " latest (non-formatted) man page: https://github.com/lsof-org/lsof/blob/master/Lsof.8\n",
            " usage: [-?abhKlnNoOPRtUvVX] [+|-c c] [+|-d s] [+D D] [+|-E] [+|-e s] [+|-f[gG]]\n",
            " [-F [f]] [-g [s]] [-i [i]] [+|-L [l]] [+m [m]] [+|-M] [-o [o]] [-p s]\n",
            " [+|-r [t]] [-s [p:s]] [-S [t]] [-T [t]] [-u s] [+|-w] [-x [fl]] [--] [names]\n",
            "Use the ``-h'' option to get more help information.\n"
          ]
        }
      ],
      "source": [
        "!hostname -I\n",
        "\n",
        "#gives ip address\n",
        "!curl ipecho.net/plain\n",
        "\n",
        "#Gives ip addresses with port numbers\n",
        "!sudo lsof -i -P -n | grep LISTEN"
      ]
    }
  ],
  "metadata": {
    "colab": {
      "provenance": []
    },
    "kernelspec": {
      "display_name": "Python 3",
      "name": "python3"
    },
    "language_info": {
      "name": "python"
    }
  },
  "nbformat": 4,
  "nbformat_minor": 0
}
